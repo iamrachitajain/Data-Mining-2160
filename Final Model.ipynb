{
 "cells": [
  {
   "cell_type": "code",
   "execution_count": 173,
   "metadata": {},
   "outputs": [],
   "source": [
    "import numpy as np\n",
    "\n",
    "# Read in csv file for Surgical Deepnet data that is stored in path:\n",
    "import pandas as pd\n",
    "from sklearn import metrics\n",
    "pd.set_option('display.max_columns', None)\n",
    "pd.set_option('display.expand_frame_repr', False)\n",
    "pd.set_option('max_colwidth', -1)\n",
    "train_data = pd.read_csv('PYTHON_LAB_TRAIN.csv')\n",
    "test_data = pd.read_csv('PYTHON_LAB_DF_TEST_2.csv')"
   ]
  },
  {
   "cell_type": "code",
   "execution_count": 50,
   "metadata": {},
   "outputs": [],
   "source": [
    "train_data_1 = train_data\n",
    "train_data_1['LOS'] = np.where(train_data_1['LOS'] > 5.0, 1, 0)"
   ]
  },
  {
   "cell_type": "code",
   "execution_count": 51,
   "metadata": {},
   "outputs": [
    {
     "data": {
      "text/plain": [
       "<seaborn.axisgrid.FacetGrid at 0x1a194fe750>"
      ]
     },
     "execution_count": 51,
     "metadata": {},
     "output_type": "execute_result"
    },
    {
     "data": {
      "image/png": "[encoded data removed]",
      "text/plain": [
       "<Figure size 360x360 with 1 Axes>"
      ]
     },
     "metadata": {
      "needs_background": "light"
     },
     "output_type": "display_data"
    }
   ],
   "source": [
    "import seaborn as sns\n",
    "\n",
    "#Scatterplot\n",
    "sns.lmplot('LOS', 'CHOLESTEROL_CLOSEST', data=train_data_1, fit_reg=True)"
   ]
  },
  {
   "cell_type": "code",
   "execution_count": 52,
   "metadata": {},
   "outputs": [],
   "source": [
    "d = train_data_1.isna().any()\n",
    "\n",
    "cols_to_ignore = ['AGE_ON_CONTACT_DATE', 'BP_SYSTOLIC', 'PULSE', 'BP_DIASTOLIC']\n",
    "d[cols_to_ignore] = False\n",
    "\n",
    "train_data_1 = train_data_1.loc[:, ~d]"
   ]
  },
  {
   "cell_type": "code",
   "execution_count": 53,
   "metadata": {},
   "outputs": [
    {
     "data": {
      "text/html": [
       "<div>\n",
       "<style scoped>\n",
       "    .dataframe tbody tr th:only-of-type {\n",
       "        vertical-align: middle;\n",
       "    }\n",
       "\n",
       "    .dataframe tbody tr th {\n",
       "        vertical-align: top;\n",
       "    }\n",
       "\n",
       "    .dataframe thead th {\n",
       "        text-align: right;\n",
       "    }\n",
       "</style>\n",
       "<table border=\"1\" class=\"dataframe\">\n",
       "  <thead>\n",
       "    <tr style=\"text-align: right;\">\n",
       "      <th></th>\n",
       "      <th>SCHED_SURG_AREA</th>\n",
       "      <th>PROC_DATE</th>\n",
       "      <th>SCHED_HOSPITAL</th>\n",
       "      <th>CREATE_DT_TM</th>\n",
       "      <th>SCHED_START_DT_TM</th>\n",
       "      <th>SCHED_SURG_PROC_CD</th>\n",
       "      <th>AGE_ON_CONTACT_DATE</th>\n",
       "      <th>BP_SYSTOLIC</th>\n",
       "      <th>BP_DIASTOLIC</th>\n",
       "      <th>PULSE</th>\n",
       "      <th>LOS</th>\n",
       "    </tr>\n",
       "  </thead>\n",
       "  <tbody>\n",
       "    <tr>\n",
       "      <td>0</td>\n",
       "      <td>ALTOR</td>\n",
       "      <td>2/19/2018 0:00</td>\n",
       "      <td>ALT</td>\n",
       "      <td>2/13/2018 20:04</td>\n",
       "      <td>2/19/2018 7:00</td>\n",
       "      <td>3904785</td>\n",
       "      <td>73.3</td>\n",
       "      <td>102.0</td>\n",
       "      <td>70.0</td>\n",
       "      <td>83.0</td>\n",
       "      <td>1</td>\n",
       "    </tr>\n",
       "    <tr>\n",
       "      <td>1</td>\n",
       "      <td>NOROB</td>\n",
       "      <td>2/22/2018 0:00</td>\n",
       "      <td>NOR</td>\n",
       "      <td>1/23/2018 9:27</td>\n",
       "      <td>2/22/2018 8:00</td>\n",
       "      <td>576089753</td>\n",
       "      <td>26.1</td>\n",
       "      <td>96.0</td>\n",
       "      <td>58.0</td>\n",
       "      <td>NaN</td>\n",
       "      <td>0</td>\n",
       "    </tr>\n",
       "    <tr>\n",
       "      <td>2</td>\n",
       "      <td>SHYOR</td>\n",
       "      <td>3/27/2018 0:00</td>\n",
       "      <td>SHY</td>\n",
       "      <td>3/6/2018 11:02</td>\n",
       "      <td>3/27/2018 7:15</td>\n",
       "      <td>3907499</td>\n",
       "      <td>19.0</td>\n",
       "      <td>NaN</td>\n",
       "      <td>NaN</td>\n",
       "      <td>NaN</td>\n",
       "      <td>0</td>\n",
       "    </tr>\n",
       "    <tr>\n",
       "      <td>3</td>\n",
       "      <td>SHYOR</td>\n",
       "      <td>6/8/2017 0:00</td>\n",
       "      <td>SHY</td>\n",
       "      <td>6/6/2017 14:19</td>\n",
       "      <td>6/8/2017 13:00</td>\n",
       "      <td>3907039</td>\n",
       "      <td>74.1</td>\n",
       "      <td>NaN</td>\n",
       "      <td>NaN</td>\n",
       "      <td>NaN</td>\n",
       "      <td>1</td>\n",
       "    </tr>\n",
       "    <tr>\n",
       "      <td>4</td>\n",
       "      <td>EASOR</td>\n",
       "      <td>12/20/2017 0:00</td>\n",
       "      <td>EAS</td>\n",
       "      <td>12/7/2017 13:52</td>\n",
       "      <td>12/20/2017 10:00</td>\n",
       "      <td>3907499</td>\n",
       "      <td>57.8</td>\n",
       "      <td>120.0</td>\n",
       "      <td>60.0</td>\n",
       "      <td>NaN</td>\n",
       "      <td>0</td>\n",
       "    </tr>\n",
       "  </tbody>\n",
       "</table>\n",
       "</div>"
      ],
      "text/plain": [
       "  SCHED_SURG_AREA        PROC_DATE SCHED_HOSPITAL     CREATE_DT_TM SCHED_START_DT_TM  SCHED_SURG_PROC_CD  AGE_ON_CONTACT_DATE  BP_SYSTOLIC  BP_DIASTOLIC  PULSE  LOS\n",
       "0  ALTOR           2/19/2018 0:00   ALT            2/13/2018 20:04  2/19/2018 7:00    3904785             73.3                 102.0        70.0          83.0   1  \n",
       "1  NOROB           2/22/2018 0:00   NOR            1/23/2018 9:27   2/22/2018 8:00    576089753           26.1                 96.0         58.0         NaN     0  \n",
       "2  SHYOR           3/27/2018 0:00   SHY            3/6/2018 11:02   3/27/2018 7:15    3907499             19.0                NaN          NaN           NaN     0  \n",
       "3  SHYOR           6/8/2017 0:00    SHY            6/6/2017 14:19   6/8/2017 13:00    3907039             74.1                NaN          NaN           NaN     1  \n",
       "4  EASOR           12/20/2017 0:00  EAS            12/7/2017 13:52  12/20/2017 10:00  3907499             57.8                 120.0        60.0         NaN     0  "
      ]
     },
     "execution_count": 53,
     "metadata": {},
     "output_type": "execute_result"
    }
   ],
   "source": [
    "train_data_1.head()"
   ]
  },
  {
   "cell_type": "code",
   "execution_count": 54,
   "metadata": {},
   "outputs": [
    {
     "name": "stderr",
     "output_type": "stream",
     "text": [
      "/Users/rachitajain/opt/anaconda3/lib/python3.7/site-packages/ipykernel_launcher.py:1: SettingWithCopyWarning: \n",
      "A value is trying to be set on a copy of a slice from a DataFrame.\n",
      "Try using .loc[row_indexer,col_indexer] = value instead\n",
      "\n",
      "See the caveats in the documentation: http://pandas.pydata.org/pandas-docs/stable/user_guide/indexing.html#returning-a-view-versus-a-copy\n",
      "  \"\"\"Entry point for launching an IPython kernel.\n",
      "/Users/rachitajain/opt/anaconda3/lib/python3.7/site-packages/ipykernel_launcher.py:2: SettingWithCopyWarning: \n",
      "A value is trying to be set on a copy of a slice from a DataFrame.\n",
      "Try using .loc[row_indexer,col_indexer] = value instead\n",
      "\n",
      "See the caveats in the documentation: http://pandas.pydata.org/pandas-docs/stable/user_guide/indexing.html#returning-a-view-versus-a-copy\n",
      "  \n"
     ]
    }
   ],
   "source": [
    "train_data_1['PROC_DATE'] = pd.to_datetime(train_data_1['PROC_DATE'])\n",
    "train_data_1['SCHED_START_DT_TM'] = pd.to_datetime(train_data_1['SCHED_START_DT_TM'])"
   ]
  },
  {
   "cell_type": "raw",
   "metadata": {},
   "source": [
    "Hourly difference between actual schedule of surgery completion and scheduled completion"
   ]
  },
  {
   "cell_type": "code",
   "execution_count": 55,
   "metadata": {},
   "outputs": [
    {
     "name": "stderr",
     "output_type": "stream",
     "text": [
      "/Users/rachitajain/opt/anaconda3/lib/python3.7/site-packages/ipykernel_launcher.py:4: SettingWithCopyWarning: \n",
      "A value is trying to be set on a copy of a slice from a DataFrame.\n",
      "Try using .loc[row_indexer,col_indexer] = value instead\n",
      "\n",
      "See the caveats in the documentation: http://pandas.pydata.org/pandas-docs/stable/user_guide/indexing.html#returning-a-view-versus-a-copy\n",
      "  after removing the cwd from sys.path.\n"
     ]
    }
   ],
   "source": [
    "((train_data_1['SCHED_START_DT_TM'][1] - train_data_1['PROC_DATE'][1]).seconds)/3600\n",
    "\n",
    "#train_data_1['Delay'] = ((train_data_1['SCHED_START_DT_TM'] - train_data_1['PROC_DATE']).seconds)/3600\n",
    "train_data_1['Delay'] = (pd.to_datetime(train_data_1['SCHED_START_DT_TM']) - pd.to_datetime(train_data_1['PROC_DATE'])).astype('timedelta64[h]') / 3600.0"
   ]
  },
  {
   "cell_type": "code",
   "execution_count": 56,
   "metadata": {},
   "outputs": [],
   "source": [
    "train_data_1 = train_data_1.drop(columns=['PROC_DATE', 'SCHED_START_DT_TM', 'CREATE_DT_TM'])"
   ]
  },
  {
   "cell_type": "code",
   "execution_count": 57,
   "metadata": {},
   "outputs": [
    {
     "data": {
      "text/html": [
       "<div>\n",
       "<style scoped>\n",
       "    .dataframe tbody tr th:only-of-type {\n",
       "        vertical-align: middle;\n",
       "    }\n",
       "\n",
       "    .dataframe tbody tr th {\n",
       "        vertical-align: top;\n",
       "    }\n",
       "\n",
       "    .dataframe thead th {\n",
       "        text-align: right;\n",
       "    }\n",
       "</style>\n",
       "<table border=\"1\" class=\"dataframe\">\n",
       "  <thead>\n",
       "    <tr style=\"text-align: right;\">\n",
       "      <th></th>\n",
       "      <th>SCHED_SURG_AREA</th>\n",
       "      <th>SCHED_HOSPITAL</th>\n",
       "      <th>SCHED_SURG_PROC_CD</th>\n",
       "      <th>AGE_ON_CONTACT_DATE</th>\n",
       "      <th>BP_SYSTOLIC</th>\n",
       "      <th>BP_DIASTOLIC</th>\n",
       "      <th>PULSE</th>\n",
       "      <th>LOS</th>\n",
       "      <th>Delay</th>\n",
       "    </tr>\n",
       "  </thead>\n",
       "  <tbody>\n",
       "    <tr>\n",
       "      <td>0</td>\n",
       "      <td>ALTOR</td>\n",
       "      <td>ALT</td>\n",
       "      <td>3904785</td>\n",
       "      <td>73.3</td>\n",
       "      <td>102.0</td>\n",
       "      <td>70.0</td>\n",
       "      <td>83.0</td>\n",
       "      <td>1</td>\n",
       "      <td>0.001944</td>\n",
       "    </tr>\n",
       "    <tr>\n",
       "      <td>1</td>\n",
       "      <td>NOROB</td>\n",
       "      <td>NOR</td>\n",
       "      <td>576089753</td>\n",
       "      <td>26.1</td>\n",
       "      <td>96.0</td>\n",
       "      <td>58.0</td>\n",
       "      <td>NaN</td>\n",
       "      <td>0</td>\n",
       "      <td>0.002222</td>\n",
       "    </tr>\n",
       "    <tr>\n",
       "      <td>2</td>\n",
       "      <td>SHYOR</td>\n",
       "      <td>SHY</td>\n",
       "      <td>3907499</td>\n",
       "      <td>19.0</td>\n",
       "      <td>NaN</td>\n",
       "      <td>NaN</td>\n",
       "      <td>NaN</td>\n",
       "      <td>0</td>\n",
       "      <td>0.001944</td>\n",
       "    </tr>\n",
       "    <tr>\n",
       "      <td>3</td>\n",
       "      <td>SHYOR</td>\n",
       "      <td>SHY</td>\n",
       "      <td>3907039</td>\n",
       "      <td>74.1</td>\n",
       "      <td>NaN</td>\n",
       "      <td>NaN</td>\n",
       "      <td>NaN</td>\n",
       "      <td>1</td>\n",
       "      <td>0.003611</td>\n",
       "    </tr>\n",
       "    <tr>\n",
       "      <td>4</td>\n",
       "      <td>EASOR</td>\n",
       "      <td>EAS</td>\n",
       "      <td>3907499</td>\n",
       "      <td>57.8</td>\n",
       "      <td>120.0</td>\n",
       "      <td>60.0</td>\n",
       "      <td>NaN</td>\n",
       "      <td>0</td>\n",
       "      <td>0.002778</td>\n",
       "    </tr>\n",
       "  </tbody>\n",
       "</table>\n",
       "</div>"
      ],
      "text/plain": [
       "  SCHED_SURG_AREA SCHED_HOSPITAL  SCHED_SURG_PROC_CD  AGE_ON_CONTACT_DATE  BP_SYSTOLIC  BP_DIASTOLIC  PULSE  LOS     Delay\n",
       "0  ALTOR           ALT            3904785             73.3                 102.0        70.0          83.0   1    0.001944\n",
       "1  NOROB           NOR            576089753           26.1                 96.0         58.0         NaN     0    0.002222\n",
       "2  SHYOR           SHY            3907499             19.0                NaN          NaN           NaN     0    0.001944\n",
       "3  SHYOR           SHY            3907039             74.1                NaN          NaN           NaN     1    0.003611\n",
       "4  EASOR           EAS            3907499             57.8                 120.0        60.0         NaN     0    0.002778"
      ]
     },
     "execution_count": 57,
     "metadata": {},
     "output_type": "execute_result"
    }
   ],
   "source": [
    "train_data_1.head()"
   ]
  },
  {
   "cell_type": "code",
   "execution_count": 58,
   "metadata": {},
   "outputs": [],
   "source": [
    "train_data_1['SCHED_SURG_AREA'] = train_data_1['SCHED_SURG_AREA'].astype('category')\n",
    "train_data_1['SCHED_SURG_AREA'] = train_data_1['SCHED_SURG_AREA'].cat.codes\n",
    "\n",
    "train_data_1['SCHED_SURG_PROC_CD'] = train_data_1['SCHED_SURG_PROC_CD'].astype('category')\n",
    "train_data_1['SCHED_SURG_PROC_CD'] = train_data_1['SCHED_SURG_PROC_CD'].cat.codes\n",
    "\n",
    "train_data_1['SCHED_HOSPITAL'] = train_data_1['SCHED_HOSPITAL'].astype('category')\n",
    "train_data_1['SCHED_HOSPITAL'] = train_data_1['SCHED_HOSPITAL'].cat.codes"
   ]
  },
  {
   "cell_type": "code",
   "execution_count": 59,
   "metadata": {},
   "outputs": [
    {
     "data": {
      "text/html": [
       "<div>\n",
       "<style scoped>\n",
       "    .dataframe tbody tr th:only-of-type {\n",
       "        vertical-align: middle;\n",
       "    }\n",
       "\n",
       "    .dataframe tbody tr th {\n",
       "        vertical-align: top;\n",
       "    }\n",
       "\n",
       "    .dataframe thead th {\n",
       "        text-align: right;\n",
       "    }\n",
       "</style>\n",
       "<table border=\"1\" class=\"dataframe\">\n",
       "  <thead>\n",
       "    <tr style=\"text-align: right;\">\n",
       "      <th></th>\n",
       "      <th>SCHED_SURG_AREA</th>\n",
       "      <th>SCHED_HOSPITAL</th>\n",
       "      <th>SCHED_SURG_PROC_CD</th>\n",
       "      <th>AGE_ON_CONTACT_DATE</th>\n",
       "      <th>BP_SYSTOLIC</th>\n",
       "      <th>BP_DIASTOLIC</th>\n",
       "      <th>PULSE</th>\n",
       "      <th>LOS</th>\n",
       "      <th>Delay</th>\n",
       "    </tr>\n",
       "  </thead>\n",
       "  <tbody>\n",
       "    <tr>\n",
       "      <td>0</td>\n",
       "      <td>2</td>\n",
       "      <td>0</td>\n",
       "      <td>277</td>\n",
       "      <td>73.3</td>\n",
       "      <td>102.0</td>\n",
       "      <td>70.0</td>\n",
       "      <td>83.0</td>\n",
       "      <td>1</td>\n",
       "      <td>0.001944</td>\n",
       "    </tr>\n",
       "    <tr>\n",
       "      <td>1</td>\n",
       "      <td>28</td>\n",
       "      <td>12</td>\n",
       "      <td>1243</td>\n",
       "      <td>26.1</td>\n",
       "      <td>96.0</td>\n",
       "      <td>58.0</td>\n",
       "      <td>NaN</td>\n",
       "      <td>0</td>\n",
       "      <td>0.002222</td>\n",
       "    </tr>\n",
       "    <tr>\n",
       "      <td>2</td>\n",
       "      <td>40</td>\n",
       "      <td>16</td>\n",
       "      <td>734</td>\n",
       "      <td>19.0</td>\n",
       "      <td>NaN</td>\n",
       "      <td>NaN</td>\n",
       "      <td>NaN</td>\n",
       "      <td>0</td>\n",
       "      <td>0.001944</td>\n",
       "    </tr>\n",
       "    <tr>\n",
       "      <td>3</td>\n",
       "      <td>40</td>\n",
       "      <td>16</td>\n",
       "      <td>617</td>\n",
       "      <td>74.1</td>\n",
       "      <td>NaN</td>\n",
       "      <td>NaN</td>\n",
       "      <td>NaN</td>\n",
       "      <td>1</td>\n",
       "      <td>0.003611</td>\n",
       "    </tr>\n",
       "    <tr>\n",
       "      <td>4</td>\n",
       "      <td>9</td>\n",
       "      <td>3</td>\n",
       "      <td>734</td>\n",
       "      <td>57.8</td>\n",
       "      <td>120.0</td>\n",
       "      <td>60.0</td>\n",
       "      <td>NaN</td>\n",
       "      <td>0</td>\n",
       "      <td>0.002778</td>\n",
       "    </tr>\n",
       "  </tbody>\n",
       "</table>\n",
       "</div>"
      ],
      "text/plain": [
       "   SCHED_SURG_AREA  SCHED_HOSPITAL  SCHED_SURG_PROC_CD  AGE_ON_CONTACT_DATE  BP_SYSTOLIC  BP_DIASTOLIC  PULSE  LOS     Delay\n",
       "0  2                0               277                 73.3                 102.0        70.0          83.0   1    0.001944\n",
       "1  28               12              1243                26.1                 96.0         58.0         NaN     0    0.002222\n",
       "2  40               16              734                 19.0                NaN          NaN           NaN     0    0.001944\n",
       "3  40               16              617                 74.1                NaN          NaN           NaN     1    0.003611\n",
       "4  9                3               734                 57.8                 120.0        60.0         NaN     0    0.002778"
      ]
     },
     "execution_count": 59,
     "metadata": {},
     "output_type": "execute_result"
    }
   ],
   "source": [
    "train_data_1.head()"
   ]
  },
  {
   "cell_type": "code",
   "execution_count": 60,
   "metadata": {},
   "outputs": [],
   "source": [
    "train_data_1 = train_data_1.drop(columns=['LOS'])"
   ]
  },
  {
   "cell_type": "code",
   "execution_count": 61,
   "metadata": {},
   "outputs": [],
   "source": [
    "from sklearn.impute import SimpleImputer\n",
    "imputer = SimpleImputer(missing_values=np.nan, strategy='mean')\n",
    "\n",
    "# Train the imputor on the df dataset\n",
    "imputer = imputer.fit(train_data_1)\n",
    "\n",
    "# Apply the imputer to the df dataset\n",
    "imputed_df = imputer.transform(train_data_1.values)\n",
    "\n",
    "new_df = pd.DataFrame(imputed_df)"
   ]
  },
  {
   "cell_type": "code",
   "execution_count": 62,
   "metadata": {},
   "outputs": [
    {
     "data": {
      "text/html": [
       "<div>\n",
       "<style scoped>\n",
       "    .dataframe tbody tr th:only-of-type {\n",
       "        vertical-align: middle;\n",
       "    }\n",
       "\n",
       "    .dataframe tbody tr th {\n",
       "        vertical-align: top;\n",
       "    }\n",
       "\n",
       "    .dataframe thead th {\n",
       "        text-align: right;\n",
       "    }\n",
       "</style>\n",
       "<table border=\"1\" class=\"dataframe\">\n",
       "  <thead>\n",
       "    <tr style=\"text-align: right;\">\n",
       "      <th></th>\n",
       "      <th>0</th>\n",
       "      <th>1</th>\n",
       "      <th>2</th>\n",
       "      <th>3</th>\n",
       "      <th>4</th>\n",
       "      <th>5</th>\n",
       "      <th>6</th>\n",
       "      <th>7</th>\n",
       "    </tr>\n",
       "  </thead>\n",
       "  <tbody>\n",
       "    <tr>\n",
       "      <td>0</td>\n",
       "      <td>2.0</td>\n",
       "      <td>0.0</td>\n",
       "      <td>277.0</td>\n",
       "      <td>73.3</td>\n",
       "      <td>102.000000</td>\n",
       "      <td>70.000000</td>\n",
       "      <td>83.000000</td>\n",
       "      <td>0.001944</td>\n",
       "    </tr>\n",
       "    <tr>\n",
       "      <td>1</td>\n",
       "      <td>28.0</td>\n",
       "      <td>12.0</td>\n",
       "      <td>1243.0</td>\n",
       "      <td>26.1</td>\n",
       "      <td>96.000000</td>\n",
       "      <td>58.000000</td>\n",
       "      <td>78.685965</td>\n",
       "      <td>0.002222</td>\n",
       "    </tr>\n",
       "    <tr>\n",
       "      <td>2</td>\n",
       "      <td>40.0</td>\n",
       "      <td>16.0</td>\n",
       "      <td>734.0</td>\n",
       "      <td>19.0</td>\n",
       "      <td>128.384178</td>\n",
       "      <td>76.327466</td>\n",
       "      <td>78.685965</td>\n",
       "      <td>0.001944</td>\n",
       "    </tr>\n",
       "    <tr>\n",
       "      <td>3</td>\n",
       "      <td>40.0</td>\n",
       "      <td>16.0</td>\n",
       "      <td>617.0</td>\n",
       "      <td>74.1</td>\n",
       "      <td>128.384178</td>\n",
       "      <td>76.327466</td>\n",
       "      <td>78.685965</td>\n",
       "      <td>0.003611</td>\n",
       "    </tr>\n",
       "    <tr>\n",
       "      <td>4</td>\n",
       "      <td>9.0</td>\n",
       "      <td>3.0</td>\n",
       "      <td>734.0</td>\n",
       "      <td>57.8</td>\n",
       "      <td>120.000000</td>\n",
       "      <td>60.000000</td>\n",
       "      <td>78.685965</td>\n",
       "      <td>0.002778</td>\n",
       "    </tr>\n",
       "  </tbody>\n",
       "</table>\n",
       "</div>"
      ],
      "text/plain": [
       "      0     1       2     3           4          5          6         7\n",
       "0  2.0   0.0   277.0   73.3  102.000000  70.000000  83.000000  0.001944\n",
       "1  28.0  12.0  1243.0  26.1  96.000000   58.000000  78.685965  0.002222\n",
       "2  40.0  16.0  734.0   19.0  128.384178  76.327466  78.685965  0.001944\n",
       "3  40.0  16.0  617.0   74.1  128.384178  76.327466  78.685965  0.003611\n",
       "4  9.0   3.0   734.0   57.8  120.000000  60.000000  78.685965  0.002778"
      ]
     },
     "execution_count": 62,
     "metadata": {},
     "output_type": "execute_result"
    }
   ],
   "source": [
    "new_df.head()"
   ]
  },
  {
   "cell_type": "code",
   "execution_count": 63,
   "metadata": {},
   "outputs": [],
   "source": [
    "new_df = pd.concat([new_df, train_data['LOS']], axis=1)"
   ]
  },
  {
   "cell_type": "code",
   "execution_count": 64,
   "metadata": {},
   "outputs": [
    {
     "data": {
      "text/html": [
       "<div>\n",
       "<style scoped>\n",
       "    .dataframe tbody tr th:only-of-type {\n",
       "        vertical-align: middle;\n",
       "    }\n",
       "\n",
       "    .dataframe tbody tr th {\n",
       "        vertical-align: top;\n",
       "    }\n",
       "\n",
       "    .dataframe thead th {\n",
       "        text-align: right;\n",
       "    }\n",
       "</style>\n",
       "<table border=\"1\" class=\"dataframe\">\n",
       "  <thead>\n",
       "    <tr style=\"text-align: right;\">\n",
       "      <th></th>\n",
       "      <th>0</th>\n",
       "      <th>1</th>\n",
       "      <th>2</th>\n",
       "      <th>3</th>\n",
       "      <th>4</th>\n",
       "      <th>5</th>\n",
       "      <th>6</th>\n",
       "      <th>7</th>\n",
       "      <th>LOS</th>\n",
       "    </tr>\n",
       "  </thead>\n",
       "  <tbody>\n",
       "    <tr>\n",
       "      <td>0</td>\n",
       "      <td>2.0</td>\n",
       "      <td>0.0</td>\n",
       "      <td>277.0</td>\n",
       "      <td>73.3</td>\n",
       "      <td>102.000000</td>\n",
       "      <td>70.000000</td>\n",
       "      <td>83.000000</td>\n",
       "      <td>0.001944</td>\n",
       "      <td>1</td>\n",
       "    </tr>\n",
       "    <tr>\n",
       "      <td>1</td>\n",
       "      <td>28.0</td>\n",
       "      <td>12.0</td>\n",
       "      <td>1243.0</td>\n",
       "      <td>26.1</td>\n",
       "      <td>96.000000</td>\n",
       "      <td>58.000000</td>\n",
       "      <td>78.685965</td>\n",
       "      <td>0.002222</td>\n",
       "      <td>0</td>\n",
       "    </tr>\n",
       "    <tr>\n",
       "      <td>2</td>\n",
       "      <td>40.0</td>\n",
       "      <td>16.0</td>\n",
       "      <td>734.0</td>\n",
       "      <td>19.0</td>\n",
       "      <td>128.384178</td>\n",
       "      <td>76.327466</td>\n",
       "      <td>78.685965</td>\n",
       "      <td>0.001944</td>\n",
       "      <td>0</td>\n",
       "    </tr>\n",
       "    <tr>\n",
       "      <td>3</td>\n",
       "      <td>40.0</td>\n",
       "      <td>16.0</td>\n",
       "      <td>617.0</td>\n",
       "      <td>74.1</td>\n",
       "      <td>128.384178</td>\n",
       "      <td>76.327466</td>\n",
       "      <td>78.685965</td>\n",
       "      <td>0.003611</td>\n",
       "      <td>1</td>\n",
       "    </tr>\n",
       "    <tr>\n",
       "      <td>4</td>\n",
       "      <td>9.0</td>\n",
       "      <td>3.0</td>\n",
       "      <td>734.0</td>\n",
       "      <td>57.8</td>\n",
       "      <td>120.000000</td>\n",
       "      <td>60.000000</td>\n",
       "      <td>78.685965</td>\n",
       "      <td>0.002778</td>\n",
       "      <td>0</td>\n",
       "    </tr>\n",
       "  </tbody>\n",
       "</table>\n",
       "</div>"
      ],
      "text/plain": [
       "      0     1       2     3           4          5          6         7  LOS\n",
       "0  2.0   0.0   277.0   73.3  102.000000  70.000000  83.000000  0.001944  1  \n",
       "1  28.0  12.0  1243.0  26.1  96.000000   58.000000  78.685965  0.002222  0  \n",
       "2  40.0  16.0  734.0   19.0  128.384178  76.327466  78.685965  0.001944  0  \n",
       "3  40.0  16.0  617.0   74.1  128.384178  76.327466  78.685965  0.003611  1  \n",
       "4  9.0   3.0   734.0   57.8  120.000000  60.000000  78.685965  0.002778  0  "
      ]
     },
     "execution_count": 64,
     "metadata": {},
     "output_type": "execute_result"
    }
   ],
   "source": [
    "new_df.head()"
   ]
  },
  {
   "cell_type": "code",
   "execution_count": 65,
   "metadata": {},
   "outputs": [],
   "source": [
    "# Again, we split the data into training and testing\n",
    "from sklearn.model_selection import train_test_split\n",
    "x_train, x_test, y_train, y_test = train_test_split(new_df.drop(columns = ['LOS']), \n",
    "                                                    new_df['LOS'], \n",
    "                                                    test_size=0.2, \n",
    "                                                    random_state=1)\n",
    "\n",
    "x_train, x_val, y_train, y_val = train_test_split(x_train, y_train, test_size = 0.2, random_state = 1)"
   ]
  },
  {
   "cell_type": "code",
   "execution_count": 66,
   "metadata": {},
   "outputs": [
    {
     "name": "stdout",
     "output_type": "stream",
     "text": [
      "(51200, 8) (12800, 8) (16000, 8)\n"
     ]
    }
   ],
   "source": [
    "import xgboost as xgb\n",
    "\n",
    "print(x_train.shape, x_val.shape, x_test.shape)"
   ]
  },
  {
   "cell_type": "code",
   "execution_count": 67,
   "metadata": {},
   "outputs": [
    {
     "name": "stderr",
     "output_type": "stream",
     "text": [
      "/Users/rachitajain/opt/anaconda3/lib/python3.7/site-packages/xgboost/core.py:587: FutureWarning: Series.base is deprecated and will be removed in a future version\n",
      "  if getattr(data, 'base', None) is not None and \\\n"
     ]
    }
   ],
   "source": [
    "dtrain = xgb.DMatrix(data = x_train, label = y_train)\n",
    "dval = xgb.DMatrix(data = x_val, label = y_val)\n",
    "dtest = xgb.DMatrix(data = x_test, label = y_test)"
   ]
  },
  {
   "cell_type": "code",
   "execution_count": 68,
   "metadata": {},
   "outputs": [],
   "source": [
    "param = param = {'booster': 'gbtree',\n",
    " 'colsample_bytree': 0.8500000000000001,\n",
    " 'objective':'binary:logistic',\n",
    " 'eval_metric': 'auc',\n",
    " 'learning_rate': 0.39,\n",
    " 'max_depth': 80,\n",
    " 'maximize': 0,\n",
    " 'min_child_weight': 75.0,\n",
    " 'n_thread': 0,\n",
    " 'n_estimators' : 1000,\n",
    " 'reg_alpha': 50.0,\n",
    " 'reg_lambda': 1.22711439376566,\n",
    " 'scale_pos_weight': 6.586573078664614,\n",
    " 'subsample': 1.0,\n",
    " 'verbose': 0,\n",
    " 'gamma' : 10,\n",
    "        }"
   ]
  },
  {
   "cell_type": "code",
   "execution_count": 69,
   "metadata": {},
   "outputs": [
    {
     "name": "stdout",
     "output_type": "stream",
     "text": [
      "[0]\ttrain-auc:0.762837\teval-auc:0.749802\n",
      "Multiple eval metrics have been passed: 'eval-auc' will be used for early stopping.\n",
      "\n",
      "Will train until eval-auc hasn't improved in 15 rounds.\n",
      "[1]\ttrain-auc:0.776162\teval-auc:0.761415\n",
      "[2]\ttrain-auc:0.793544\teval-auc:0.777182\n",
      "[3]\ttrain-auc:0.8012\teval-auc:0.783239\n",
      "[4]\ttrain-auc:0.804007\teval-auc:0.784464\n",
      "[5]\ttrain-auc:0.805132\teval-auc:0.785115\n",
      "[6]\ttrain-auc:0.813251\teval-auc:0.791133\n",
      "[7]\ttrain-auc:0.815655\teval-auc:0.79341\n",
      "[8]\ttrain-auc:0.818654\teval-auc:0.796839\n",
      "[9]\ttrain-auc:0.820715\teval-auc:0.799326\n",
      "[10]\ttrain-auc:0.821235\teval-auc:0.799752\n",
      "[11]\ttrain-auc:0.821701\teval-auc:0.800446\n",
      "[12]\ttrain-auc:0.821967\teval-auc:0.800537\n",
      "[13]\ttrain-auc:0.822186\teval-auc:0.800526\n",
      "[14]\ttrain-auc:0.822354\teval-auc:0.800837\n",
      "[15]\ttrain-auc:0.826452\teval-auc:0.804999\n",
      "[16]\ttrain-auc:0.826582\teval-auc:0.804996\n",
      "[17]\ttrain-auc:0.827746\teval-auc:0.80601\n",
      "[18]\ttrain-auc:0.827755\teval-auc:0.806017\n",
      "[19]\ttrain-auc:0.828406\teval-auc:0.806563\n",
      "[20]\ttrain-auc:0.828442\teval-auc:0.806628\n",
      "[21]\ttrain-auc:0.828774\teval-auc:0.806857\n",
      "[22]\ttrain-auc:0.828948\teval-auc:0.806672\n",
      "[23]\ttrain-auc:0.829866\teval-auc:0.807583\n",
      "[24]\ttrain-auc:0.829866\teval-auc:0.807583\n",
      "[25]\ttrain-auc:0.829866\teval-auc:0.807583\n",
      "[26]\ttrain-auc:0.829866\teval-auc:0.807583\n",
      "[27]\ttrain-auc:0.83021\teval-auc:0.807649\n",
      "[28]\ttrain-auc:0.83062\teval-auc:0.807865\n",
      "[29]\ttrain-auc:0.83062\teval-auc:0.807865\n",
      "[30]\ttrain-auc:0.83062\teval-auc:0.807865\n",
      "[31]\ttrain-auc:0.830724\teval-auc:0.808021\n",
      "[32]\ttrain-auc:0.83094\teval-auc:0.808239\n",
      "[33]\ttrain-auc:0.83094\teval-auc:0.808239\n",
      "[34]\ttrain-auc:0.83094\teval-auc:0.808239\n",
      "[35]\ttrain-auc:0.83094\teval-auc:0.808239\n",
      "[36]\ttrain-auc:0.831053\teval-auc:0.808217\n",
      "[37]\ttrain-auc:0.831177\teval-auc:0.808249\n",
      "[38]\ttrain-auc:0.831235\teval-auc:0.808351\n",
      "[39]\ttrain-auc:0.831804\teval-auc:0.808559\n",
      "[40]\ttrain-auc:0.831804\teval-auc:0.808559\n",
      "[41]\ttrain-auc:0.831964\teval-auc:0.808682\n",
      "[42]\ttrain-auc:0.832055\teval-auc:0.808554\n",
      "[43]\ttrain-auc:0.832045\teval-auc:0.808568\n",
      "[44]\ttrain-auc:0.832045\teval-auc:0.808568\n",
      "[45]\ttrain-auc:0.832045\teval-auc:0.808568\n",
      "[46]\ttrain-auc:0.832254\teval-auc:0.808876\n",
      "[47]\ttrain-auc:0.832351\teval-auc:0.808954\n",
      "[48]\ttrain-auc:0.832351\teval-auc:0.808954\n",
      "[49]\ttrain-auc:0.832514\teval-auc:0.809098\n",
      "[50]\ttrain-auc:0.832567\teval-auc:0.809029\n",
      "[51]\ttrain-auc:0.832567\teval-auc:0.809029\n",
      "[52]\ttrain-auc:0.832567\teval-auc:0.809029\n",
      "[53]\ttrain-auc:0.832567\teval-auc:0.809029\n",
      "[54]\ttrain-auc:0.832567\teval-auc:0.809029\n",
      "[55]\ttrain-auc:0.832567\teval-auc:0.809029\n",
      "[56]\ttrain-auc:0.832567\teval-auc:0.809029\n",
      "[57]\ttrain-auc:0.832567\teval-auc:0.809029\n",
      "[58]\ttrain-auc:0.832754\teval-auc:0.809039\n",
      "[59]\ttrain-auc:0.832754\teval-auc:0.809039\n",
      "[60]\ttrain-auc:0.832997\teval-auc:0.809105\n",
      "[61]\ttrain-auc:0.832997\teval-auc:0.809105\n",
      "[62]\ttrain-auc:0.832997\teval-auc:0.809105\n",
      "[63]\ttrain-auc:0.832997\teval-auc:0.809105\n",
      "[64]\ttrain-auc:0.832997\teval-auc:0.809105\n",
      "[65]\ttrain-auc:0.832997\teval-auc:0.809105\n",
      "[66]\ttrain-auc:0.832997\teval-auc:0.809105\n",
      "[67]\ttrain-auc:0.832997\teval-auc:0.809105\n",
      "[68]\ttrain-auc:0.832997\teval-auc:0.809105\n",
      "[69]\ttrain-auc:0.832997\teval-auc:0.809105\n",
      "[70]\ttrain-auc:0.832997\teval-auc:0.809105\n",
      "[71]\ttrain-auc:0.832997\teval-auc:0.809105\n",
      "[72]\ttrain-auc:0.832997\teval-auc:0.809105\n",
      "[73]\ttrain-auc:0.832997\teval-auc:0.809105\n",
      "[74]\ttrain-auc:0.832997\teval-auc:0.809105\n",
      "[75]\ttrain-auc:0.832997\teval-auc:0.809105\n",
      "Stopping. Best iteration:\n",
      "[60]\ttrain-auc:0.832997\teval-auc:0.809105\n",
      "\n"
     ]
    }
   ],
   "source": [
    "# specify validations set to watch performance\n",
    "watchlist = [(dtrain, 'train'), (dval, 'eval')]\n",
    "num_round = 20000 #This is another hyperparameter of sorts\n",
    "bst = xgb.train(param, dtrain, num_round, watchlist, early_stopping_rounds = 15)"
   ]
  },
  {
   "cell_type": "code",
   "execution_count": 70,
   "metadata": {},
   "outputs": [],
   "source": [
    "mort_train_w_preds = x_train\n",
    "mort_train_w_preds['xgb_probs'] = bst.predict(dtrain)\n",
    "\n",
    "mort_test_w_preds = x_test\n",
    "mort_test_w_preds['xgb_probs'] = bst.predict(dtest)"
   ]
  },
  {
   "cell_type": "markdown",
   "metadata": {},
   "source": [
    "# AUC SCORES:"
   ]
  },
  {
   "cell_type": "code",
   "execution_count": 76,
   "metadata": {},
   "outputs": [
    {
     "data": {
      "text/plain": [
       "0.8329970253488329"
      ]
     },
     "execution_count": 76,
     "metadata": {},
     "output_type": "execute_result"
    }
   ],
   "source": [
    "y = y_test\n",
    "scores = mort_test_w_preds['xgb_probs']\n",
    "\n",
    "fpr, tpr, thresholds = metrics.roc_curve(y_train, mort_train_w_preds['xgb_probs'])\n",
    "metrics.auc(fpr, tpr)"
   ]
  },
  {
   "cell_type": "code",
   "execution_count": 72,
   "metadata": {},
   "outputs": [
    {
     "data": {
      "text/plain": [
       "0.8126190938578574"
      ]
     },
     "execution_count": 72,
     "metadata": {},
     "output_type": "execute_result"
    }
   ],
   "source": [
    "fpr, tpr, thresholds = metrics.roc_curve(y, scores)\n",
    "metrics.auc(fpr, tpr)"
   ]
  },
  {
   "cell_type": "code",
   "execution_count": 73,
   "metadata": {},
   "outputs": [
    {
     "data": {
      "text/plain": [
       "0.020377931490975554"
      ]
     },
     "execution_count": 73,
     "metadata": {},
     "output_type": "execute_result"
    }
   ],
   "source": [
    "0.8329970253488329 - 0.8126190938578574"
   ]
  },
  {
   "cell_type": "markdown",
   "metadata": {},
   "source": [
    "The model is neither overfit nor underfit. "
   ]
  },
  {
   "cell_type": "markdown",
   "metadata": {},
   "source": [
    "# Evaluation and determining the high risk patients. "
   ]
  },
  {
   "cell_type": "code",
   "execution_count": 74,
   "metadata": {},
   "outputs": [],
   "source": [
    "param = param = {'booster': 'gbtree',\n",
    " 'colsample_bytree': 0.8500000000000001,\n",
    " 'objective':'binary:logistic',\n",
    " 'eval_metric': 'aucpr',\n",
    " 'learning_rate': 0.39,\n",
    " 'max_depth': 80,\n",
    " 'maximize': 0,\n",
    " 'min_child_weight': 75.0,\n",
    " 'n_thread': 0,\n",
    " 'n_estimators' : 1000,\n",
    " 'reg_alpha': 50.0,\n",
    " 'reg_lambda': 1.22711439376566,\n",
    " 'scale_pos_weight': 6.586573078664614,\n",
    " 'subsample': 1.0,\n",
    " 'verbose': 0,\n",
    " 'gamma' : 10,\n",
    "        }"
   ]
  },
  {
   "cell_type": "code",
   "execution_count": 75,
   "metadata": {},
   "outputs": [
    {
     "name": "stdout",
     "output_type": "stream",
     "text": [
      "[0]\ttrain-aucpr:0.468929\teval-aucpr:0.457598\n",
      "Multiple eval metrics have been passed: 'eval-aucpr' will be used for early stopping.\n",
      "\n",
      "Will train until eval-aucpr hasn't improved in 15 rounds.\n",
      "[1]\ttrain-aucpr:0.482599\teval-aucpr:0.470738\n",
      "[2]\ttrain-aucpr:0.50682\teval-aucpr:0.491144\n",
      "[3]\ttrain-aucpr:0.513934\teval-aucpr:0.496153\n",
      "[4]\ttrain-aucpr:0.521367\teval-aucpr:0.501299\n",
      "[5]\ttrain-aucpr:0.524929\teval-aucpr:0.503396\n",
      "[6]\ttrain-aucpr:0.539613\teval-aucpr:0.515221\n",
      "[7]\ttrain-aucpr:0.544566\teval-aucpr:0.522004\n",
      "[8]\ttrain-aucpr:0.552885\teval-aucpr:0.533287\n",
      "[9]\ttrain-aucpr:0.556871\teval-aucpr:0.538326\n",
      "[10]\ttrain-aucpr:0.558147\teval-aucpr:0.540232\n",
      "[11]\ttrain-aucpr:0.559245\teval-aucpr:0.542364\n",
      "[12]\ttrain-aucpr:0.560335\teval-aucpr:0.540667\n",
      "[13]\ttrain-aucpr:0.560668\teval-aucpr:0.541125\n",
      "[14]\ttrain-aucpr:0.560872\teval-aucpr:0.541788\n",
      "[15]\ttrain-aucpr:0.568157\teval-aucpr:0.549872\n",
      "[16]\ttrain-aucpr:0.568293\teval-aucpr:0.549939\n",
      "[17]\ttrain-aucpr:0.570145\teval-aucpr:0.553107\n",
      "[18]\ttrain-aucpr:0.570116\teval-aucpr:0.552929\n",
      "[19]\ttrain-aucpr:0.571668\teval-aucpr:0.55377\n",
      "[20]\ttrain-aucpr:0.571623\teval-aucpr:0.553952\n",
      "[21]\ttrain-aucpr:0.572062\teval-aucpr:0.554872\n",
      "[22]\ttrain-aucpr:0.572145\teval-aucpr:0.554584\n",
      "[23]\ttrain-aucpr:0.573853\teval-aucpr:0.555838\n",
      "[24]\ttrain-aucpr:0.573853\teval-aucpr:0.555838\n",
      "[25]\ttrain-aucpr:0.573853\teval-aucpr:0.555838\n",
      "[26]\ttrain-aucpr:0.573853\teval-aucpr:0.555838\n",
      "[27]\ttrain-aucpr:0.574213\teval-aucpr:0.555993\n",
      "[28]\ttrain-aucpr:0.574954\teval-aucpr:0.556858\n",
      "[29]\ttrain-aucpr:0.574954\teval-aucpr:0.556858\n",
      "[30]\ttrain-aucpr:0.574954\teval-aucpr:0.556858\n",
      "[31]\ttrain-aucpr:0.575122\teval-aucpr:0.556928\n",
      "[32]\ttrain-aucpr:0.575719\teval-aucpr:0.557358\n",
      "[33]\ttrain-aucpr:0.575719\teval-aucpr:0.557358\n",
      "[34]\ttrain-aucpr:0.575719\teval-aucpr:0.557358\n",
      "[35]\ttrain-aucpr:0.575719\teval-aucpr:0.557358\n",
      "[36]\ttrain-aucpr:0.575823\teval-aucpr:0.557485\n",
      "[37]\ttrain-aucpr:0.576191\teval-aucpr:0.557348\n",
      "[38]\ttrain-aucpr:0.576287\teval-aucpr:0.557477\n",
      "[39]\ttrain-aucpr:0.577157\teval-aucpr:0.55785\n",
      "[40]\ttrain-aucpr:0.577157\teval-aucpr:0.557851\n",
      "[41]\ttrain-aucpr:0.577437\teval-aucpr:0.557823\n",
      "[42]\ttrain-aucpr:0.577494\teval-aucpr:0.557739\n",
      "[43]\ttrain-aucpr:0.577481\teval-aucpr:0.557829\n",
      "[44]\ttrain-aucpr:0.577481\teval-aucpr:0.557829\n",
      "[45]\ttrain-aucpr:0.577481\teval-aucpr:0.557829\n",
      "[46]\ttrain-aucpr:0.577731\teval-aucpr:0.558306\n",
      "[47]\ttrain-aucpr:0.578011\teval-aucpr:0.558242\n",
      "[48]\ttrain-aucpr:0.578011\teval-aucpr:0.558242\n",
      "[49]\ttrain-aucpr:0.578142\teval-aucpr:0.558952\n",
      "[50]\ttrain-aucpr:0.578206\teval-aucpr:0.559093\n",
      "[51]\ttrain-aucpr:0.578206\teval-aucpr:0.559093\n",
      "[52]\ttrain-aucpr:0.578206\teval-aucpr:0.559093\n",
      "[53]\ttrain-aucpr:0.578206\teval-aucpr:0.559093\n",
      "[54]\ttrain-aucpr:0.578206\teval-aucpr:0.559093\n",
      "[55]\ttrain-aucpr:0.578206\teval-aucpr:0.559093\n",
      "[56]\ttrain-aucpr:0.578206\teval-aucpr:0.559093\n",
      "[57]\ttrain-aucpr:0.578206\teval-aucpr:0.559093\n",
      "[58]\ttrain-aucpr:0.578397\teval-aucpr:0.558659\n",
      "[59]\ttrain-aucpr:0.578397\teval-aucpr:0.558659\n",
      "[60]\ttrain-aucpr:0.578711\teval-aucpr:0.55877\n",
      "[61]\ttrain-aucpr:0.578711\teval-aucpr:0.55877\n",
      "[62]\ttrain-aucpr:0.578711\teval-aucpr:0.55877\n",
      "[63]\ttrain-aucpr:0.578711\teval-aucpr:0.55877\n",
      "[64]\ttrain-aucpr:0.578711\teval-aucpr:0.55877\n",
      "[65]\ttrain-aucpr:0.578711\teval-aucpr:0.55877\n",
      "Stopping. Best iteration:\n",
      "[50]\ttrain-aucpr:0.578206\teval-aucpr:0.559093\n",
      "\n"
     ]
    }
   ],
   "source": [
    "# specify validations set to watch performance\n",
    "watchlist = [(dtrain, 'train'), (dval, 'eval')]\n",
    "num_round = 20000 #This is another hyperparameter of sorts\n",
    "bst = xgb.train(param, dtrain, num_round, watchlist, early_stopping_rounds = 15)"
   ]
  },
  {
   "cell_type": "code",
   "execution_count": 78,
   "metadata": {},
   "outputs": [],
   "source": [
    "mort_train_w_preds['xgb_probs_aucpr'] = bst.predict(dtrain)\n",
    "mort_test_w_preds['xgb_probs_aucpr'] = bst.predict(dtest)"
   ]
  },
  {
   "cell_type": "code",
   "execution_count": 79,
   "metadata": {},
   "outputs": [
    {
     "data": {
      "image/png": "[encoded data removed]",
      "text/plain": [
       "<Figure size 432x288 with 1 Axes>"
      ]
     },
     "metadata": {
      "needs_background": "light"
     },
     "output_type": "display_data"
    }
   ],
   "source": [
    "# We can visualize these ROC curves with matplotlib\n",
    "import matplotlib.pyplot as plt\n",
    "from sklearn.metrics import confusion_matrix, roc_curve, roc_auc_score\n",
    "\n",
    "plt.plot(roc_curve(y_train, mort_train_w_preds['xgb_probs_aucpr'])[0],roc_curve(y_train, mort_train_w_preds['xgb_probs_aucpr'])[1], \n",
    "         color = 'blue', label='Train ROC Curve (area = %0.2f)' % roc_auc_score(y_train, mort_train_w_preds['xgb_probs_aucpr']))\n",
    "\n",
    "plt.plot(roc_curve(y_test, mort_test_w_preds['xgb_probs_aucpr'])[0],roc_curve(y_test, mort_test_w_preds['xgb_probs_aucpr'])[1], \n",
    "         color = 'red', label='Test ROC Curve (area = %0.2f)' % roc_auc_score(y_test, mort_test_w_preds['xgb_probs_aucpr']))\n",
    "\n",
    "\n",
    "plt.plot([0, 1], [0, 1], color='black', linestyle='--')\n",
    "plt.xlim([0.0, 1.0])\n",
    "plt.ylim([0.0, 1.05])\n",
    "plt.xlabel('False Positive Rate')\n",
    "plt.ylabel('True Positive Rate')\n",
    "plt.legend()\n",
    "plt.show()"
   ]
  },
  {
   "cell_type": "markdown",
   "metadata": {},
   "source": [
    "Since this is a medical use case and thus it can be expensive to ignore the false negative cases. They may lead to ignorance towards a potential medical requirement for a patient and thus AUCPR is the best evaluation technique which can be used to deploy the model. Various thresholds can be used to identify the high risk patients from the low risk patients on the basis of AUCPR scores and keeping the threshold to a maximux of 0.5 can reduce the chances of ignoring false negatives. "
   ]
  },
  {
   "cell_type": "code",
   "execution_count": 80,
   "metadata": {},
   "outputs": [
    {
     "data": {
      "text/plain": [
       "36116    0.738766\n",
       "13231    0.633627\n",
       "56836    0.743701\n",
       "61971    0.726511\n",
       "1532     0.663151\n",
       "Name: xgb_probs_aucpr, dtype: float32"
      ]
     },
     "execution_count": 80,
     "metadata": {},
     "output_type": "execute_result"
    }
   ],
   "source": [
    "mort_train_w_preds['xgb_probs_aucpr'].head()"
   ]
  },
  {
   "cell_type": "code",
   "execution_count": 82,
   "metadata": {},
   "outputs": [
    {
     "data": {
      "text/html": [
       "<div>\n",
       "<style scoped>\n",
       "    .dataframe tbody tr th:only-of-type {\n",
       "        vertical-align: middle;\n",
       "    }\n",
       "\n",
       "    .dataframe tbody tr th {\n",
       "        vertical-align: top;\n",
       "    }\n",
       "\n",
       "    .dataframe thead th {\n",
       "        text-align: right;\n",
       "    }\n",
       "</style>\n",
       "<table border=\"1\" class=\"dataframe\">\n",
       "  <thead>\n",
       "    <tr style=\"text-align: right;\">\n",
       "      <th></th>\n",
       "      <th>0</th>\n",
       "      <th>1</th>\n",
       "      <th>2</th>\n",
       "      <th>3</th>\n",
       "      <th>4</th>\n",
       "      <th>5</th>\n",
       "      <th>6</th>\n",
       "      <th>7</th>\n",
       "      <th>xgb_probs</th>\n",
       "      <th>xgb_probs_aucpr</th>\n",
       "    </tr>\n",
       "  </thead>\n",
       "  <tbody>\n",
       "    <tr>\n",
       "      <td>36116</td>\n",
       "      <td>19.0</td>\n",
       "      <td>8.0</td>\n",
       "      <td>1031.0</td>\n",
       "      <td>63.100000</td>\n",
       "      <td>158.000000</td>\n",
       "      <td>90.000000</td>\n",
       "      <td>115.000000</td>\n",
       "      <td>0.003889</td>\n",
       "      <td>0.738766</td>\n",
       "      <td>0.738766</td>\n",
       "    </tr>\n",
       "    <tr>\n",
       "      <td>13231</td>\n",
       "      <td>29.0</td>\n",
       "      <td>12.0</td>\n",
       "      <td>652.0</td>\n",
       "      <td>58.550577</td>\n",
       "      <td>128.384178</td>\n",
       "      <td>76.327466</td>\n",
       "      <td>78.685965</td>\n",
       "      <td>0.003611</td>\n",
       "      <td>0.633627</td>\n",
       "      <td>0.633627</td>\n",
       "    </tr>\n",
       "    <tr>\n",
       "      <td>56836</td>\n",
       "      <td>29.0</td>\n",
       "      <td>12.0</td>\n",
       "      <td>462.0</td>\n",
       "      <td>74.700000</td>\n",
       "      <td>110.000000</td>\n",
       "      <td>54.000000</td>\n",
       "      <td>99.000000</td>\n",
       "      <td>0.004444</td>\n",
       "      <td>0.743701</td>\n",
       "      <td>0.743701</td>\n",
       "    </tr>\n",
       "    <tr>\n",
       "      <td>61971</td>\n",
       "      <td>35.0</td>\n",
       "      <td>14.0</td>\n",
       "      <td>310.0</td>\n",
       "      <td>58.550577</td>\n",
       "      <td>128.384178</td>\n",
       "      <td>76.327466</td>\n",
       "      <td>78.685965</td>\n",
       "      <td>0.002500</td>\n",
       "      <td>0.726511</td>\n",
       "      <td>0.726511</td>\n",
       "    </tr>\n",
       "    <tr>\n",
       "      <td>1532</td>\n",
       "      <td>19.0</td>\n",
       "      <td>8.0</td>\n",
       "      <td>992.0</td>\n",
       "      <td>75.300000</td>\n",
       "      <td>135.000000</td>\n",
       "      <td>90.000000</td>\n",
       "      <td>86.000000</td>\n",
       "      <td>0.004167</td>\n",
       "      <td>0.663151</td>\n",
       "      <td>0.663151</td>\n",
       "    </tr>\n",
       "    <tr>\n",
       "      <td>...</td>\n",
       "      <td>...</td>\n",
       "      <td>...</td>\n",
       "      <td>...</td>\n",
       "      <td>...</td>\n",
       "      <td>...</td>\n",
       "      <td>...</td>\n",
       "      <td>...</td>\n",
       "      <td>...</td>\n",
       "      <td>...</td>\n",
       "      <td>...</td>\n",
       "    </tr>\n",
       "    <tr>\n",
       "      <td>60402</td>\n",
       "      <td>31.0</td>\n",
       "      <td>13.0</td>\n",
       "      <td>55.0</td>\n",
       "      <td>58.550577</td>\n",
       "      <td>128.384178</td>\n",
       "      <td>76.327466</td>\n",
       "      <td>78.685965</td>\n",
       "      <td>0.004167</td>\n",
       "      <td>0.418361</td>\n",
       "      <td>0.418361</td>\n",
       "    </tr>\n",
       "    <tr>\n",
       "      <td>40305</td>\n",
       "      <td>24.0</td>\n",
       "      <td>10.0</td>\n",
       "      <td>337.0</td>\n",
       "      <td>76.100000</td>\n",
       "      <td>128.384178</td>\n",
       "      <td>76.327466</td>\n",
       "      <td>78.685965</td>\n",
       "      <td>0.003333</td>\n",
       "      <td>0.576541</td>\n",
       "      <td>0.576541</td>\n",
       "    </tr>\n",
       "    <tr>\n",
       "      <td>20656</td>\n",
       "      <td>25.0</td>\n",
       "      <td>11.0</td>\n",
       "      <td>1243.0</td>\n",
       "      <td>38.000000</td>\n",
       "      <td>165.000000</td>\n",
       "      <td>79.000000</td>\n",
       "      <td>78.685965</td>\n",
       "      <td>0.006111</td>\n",
       "      <td>0.236422</td>\n",
       "      <td>0.236422</td>\n",
       "    </tr>\n",
       "    <tr>\n",
       "      <td>23621</td>\n",
       "      <td>14.0</td>\n",
       "      <td>5.0</td>\n",
       "      <td>582.0</td>\n",
       "      <td>46.800000</td>\n",
       "      <td>137.000000</td>\n",
       "      <td>83.000000</td>\n",
       "      <td>74.000000</td>\n",
       "      <td>0.002778</td>\n",
       "      <td>0.216753</td>\n",
       "      <td>0.216753</td>\n",
       "    </tr>\n",
       "    <tr>\n",
       "      <td>61094</td>\n",
       "      <td>26.0</td>\n",
       "      <td>11.0</td>\n",
       "      <td>734.0</td>\n",
       "      <td>79.000000</td>\n",
       "      <td>193.000000</td>\n",
       "      <td>94.000000</td>\n",
       "      <td>84.000000</td>\n",
       "      <td>0.002222</td>\n",
       "      <td>0.174231</td>\n",
       "      <td>0.174231</td>\n",
       "    </tr>\n",
       "  </tbody>\n",
       "</table>\n",
       "<p>51200 rows × 10 columns</p>\n",
       "</div>"
      ],
      "text/plain": [
       "          0     1       2          3           4          5           6         7  xgb_probs  xgb_probs_aucpr\n",
       "36116  19.0  8.0   1031.0  63.100000  158.000000  90.000000  115.000000  0.003889  0.738766   0.738766       \n",
       "13231  29.0  12.0  652.0   58.550577  128.384178  76.327466  78.685965   0.003611  0.633627   0.633627       \n",
       "56836  29.0  12.0  462.0   74.700000  110.000000  54.000000  99.000000   0.004444  0.743701   0.743701       \n",
       "61971  35.0  14.0  310.0   58.550577  128.384178  76.327466  78.685965   0.002500  0.726511   0.726511       \n",
       "1532   19.0  8.0   992.0   75.300000  135.000000  90.000000  86.000000   0.004167  0.663151   0.663151       \n",
       "...     ...  ...     ...         ...         ...        ...        ...        ...       ...        ...       \n",
       "60402  31.0  13.0  55.0    58.550577  128.384178  76.327466  78.685965   0.004167  0.418361   0.418361       \n",
       "40305  24.0  10.0  337.0   76.100000  128.384178  76.327466  78.685965   0.003333  0.576541   0.576541       \n",
       "20656  25.0  11.0  1243.0  38.000000  165.000000  79.000000  78.685965   0.006111  0.236422   0.236422       \n",
       "23621  14.0  5.0   582.0   46.800000  137.000000  83.000000  74.000000   0.002778  0.216753   0.216753       \n",
       "61094  26.0  11.0  734.0   79.000000  193.000000  94.000000  84.000000   0.002222  0.174231   0.174231       \n",
       "\n",
       "[51200 rows x 10 columns]"
      ]
     },
     "execution_count": 82,
     "metadata": {},
     "output_type": "execute_result"
    }
   ],
   "source": [
    "mort_train_w_preds"
   ]
  },
  {
   "cell_type": "code",
   "execution_count": 84,
   "metadata": {},
   "outputs": [],
   "source": [
    "mort_train_w_preds['Risk'] = np.where( mort_train_w_preds['xgb_probs_aucpr']> 5.0, 'High', 'Low')"
   ]
  },
  {
   "cell_type": "code",
   "execution_count": 85,
   "metadata": {},
   "outputs": [
    {
     "data": {
      "text/plain": [
       "36116    Low\n",
       "13231    Low\n",
       "56836    Low\n",
       "61971    Low\n",
       "1532     Low\n",
       "        ... \n",
       "60402    Low\n",
       "40305    Low\n",
       "20656    Low\n",
       "23621    Low\n",
       "61094    Low\n",
       "Name: Risk, Length: 51200, dtype: object"
      ]
     },
     "execution_count": 85,
     "metadata": {},
     "output_type": "execute_result"
    }
   ],
   "source": [
    "mort_train_w_preds['Risk']"
   ]
  },
  {
   "cell_type": "markdown",
   "metadata": {},
   "source": [
    "# Test Results"
   ]
  },
  {
   "cell_type": "code",
   "execution_count": 174,
   "metadata": {},
   "outputs": [],
   "source": [
    "d = test_data.isna().any()\n",
    "\n",
    "cols_to_ignore = ['AGE_ON_CONTACT_DATE', 'BP_SYSTOLIC', 'PULSE', 'BP_DIASTOLIC']\n",
    "d[cols_to_ignore] = False\n",
    "\n",
    "test_data = test_data.loc[:, ~d]"
   ]
  },
  {
   "cell_type": "code",
   "execution_count": 175,
   "metadata": {},
   "outputs": [],
   "source": [
    "test_data['PROC_DATE'] = pd.to_datetime(test_data['PROC_DATE'])\n",
    "test_data['SCHED_START_DT_TM'] = pd.to_datetime(test_data['SCHED_START_DT_TM'])"
   ]
  },
  {
   "cell_type": "code",
   "execution_count": 176,
   "metadata": {},
   "outputs": [],
   "source": [
    "((test_data['SCHED_START_DT_TM'][1] - test_data['PROC_DATE'][1]).seconds)/3600\n",
    "\n",
    "#train_data_1['Delay'] = ((train_data_1['SCHED_START_DT_TM'] - train_data_1['PROC_DATE']).seconds)/3600\n",
    "test_data['Delay'] = (pd.to_datetime(test_data['SCHED_START_DT_TM']) - pd.to_datetime(test_data['PROC_DATE'])).astype('timedelta64[h]') / 3600.0"
   ]
  },
  {
   "cell_type": "code",
   "execution_count": 177,
   "metadata": {},
   "outputs": [],
   "source": [
    "test_data = test_data.drop(columns=['PROC_DATE', 'SCHED_START_DT_TM', 'CREATE_DT_TM'])"
   ]
  },
  {
   "cell_type": "code",
   "execution_count": 178,
   "metadata": {},
   "outputs": [],
   "source": [
    "test_data['SCHED_SURG_AREA'] = test_data['SCHED_SURG_AREA'].astype('category')\n",
    "test_data['SCHED_SURG_AREA'] = test_data['SCHED_SURG_AREA'].cat.codes\n",
    "\n",
    "test_data['SCHED_SURG_PROC_CD'] = test_data['SCHED_SURG_PROC_CD'].astype('category')\n",
    "test_data['SCHED_SURG_PROC_CD'] = test_data['SCHED_SURG_PROC_CD'].cat.codes\n",
    "\n",
    "test_data['SCHED_HOSPITAL'] = test_data['SCHED_HOSPITAL'].astype('category')\n",
    "test_data['SCHED_HOSPITAL'] = test_data['SCHED_HOSPITAL'].cat.codes"
   ]
  },
  {
   "cell_type": "code",
   "execution_count": 179,
   "metadata": {},
   "outputs": [
    {
     "data": {
      "text/html": [
       "<div>\n",
       "<style scoped>\n",
       "    .dataframe tbody tr th:only-of-type {\n",
       "        vertical-align: middle;\n",
       "    }\n",
       "\n",
       "    .dataframe tbody tr th {\n",
       "        vertical-align: top;\n",
       "    }\n",
       "\n",
       "    .dataframe thead th {\n",
       "        text-align: right;\n",
       "    }\n",
       "</style>\n",
       "<table border=\"1\" class=\"dataframe\">\n",
       "  <thead>\n",
       "    <tr style=\"text-align: right;\">\n",
       "      <th></th>\n",
       "      <th>ID1</th>\n",
       "      <th>SCHED_SURG_AREA</th>\n",
       "      <th>SCHED_HOSPITAL</th>\n",
       "      <th>SCHED_SURG_PROC_CD</th>\n",
       "      <th>AGE_ON_CONTACT_DATE</th>\n",
       "      <th>BP_SYSTOLIC</th>\n",
       "      <th>BP_DIASTOLIC</th>\n",
       "      <th>PULSE</th>\n",
       "      <th>Delay</th>\n",
       "    </tr>\n",
       "  </thead>\n",
       "  <tbody>\n",
       "    <tr>\n",
       "      <td>0</td>\n",
       "      <td>1</td>\n",
       "      <td>33</td>\n",
       "      <td>13</td>\n",
       "      <td>857</td>\n",
       "      <td>59.7</td>\n",
       "      <td>140.0</td>\n",
       "      <td>82.0</td>\n",
       "      <td>77.0</td>\n",
       "      <td>0.001944</td>\n",
       "    </tr>\n",
       "    <tr>\n",
       "      <td>1</td>\n",
       "      <td>2</td>\n",
       "      <td>27</td>\n",
       "      <td>11</td>\n",
       "      <td>74</td>\n",
       "      <td>84.9</td>\n",
       "      <td>126.0</td>\n",
       "      <td>67.0</td>\n",
       "      <td>79.0</td>\n",
       "      <td>0.002222</td>\n",
       "    </tr>\n",
       "    <tr>\n",
       "      <td>2</td>\n",
       "      <td>3</td>\n",
       "      <td>33</td>\n",
       "      <td>13</td>\n",
       "      <td>587</td>\n",
       "      <td>52.2</td>\n",
       "      <td>122.0</td>\n",
       "      <td>78.0</td>\n",
       "      <td>NaN</td>\n",
       "      <td>0.003056</td>\n",
       "    </tr>\n",
       "    <tr>\n",
       "      <td>3</td>\n",
       "      <td>4</td>\n",
       "      <td>33</td>\n",
       "      <td>13</td>\n",
       "      <td>440</td>\n",
       "      <td>58.7</td>\n",
       "      <td>113.0</td>\n",
       "      <td>70.0</td>\n",
       "      <td>87.0</td>\n",
       "      <td>0.004167</td>\n",
       "    </tr>\n",
       "    <tr>\n",
       "      <td>4</td>\n",
       "      <td>5</td>\n",
       "      <td>26</td>\n",
       "      <td>11</td>\n",
       "      <td>773</td>\n",
       "      <td>28.6</td>\n",
       "      <td>130.0</td>\n",
       "      <td>80.0</td>\n",
       "      <td>NaN</td>\n",
       "      <td>0.004167</td>\n",
       "    </tr>\n",
       "  </tbody>\n",
       "</table>\n",
       "</div>"
      ],
      "text/plain": [
       "   ID1  SCHED_SURG_AREA  SCHED_HOSPITAL  SCHED_SURG_PROC_CD  AGE_ON_CONTACT_DATE  BP_SYSTOLIC  BP_DIASTOLIC  PULSE     Delay\n",
       "0  1    33               13              857                 59.7                 140.0        82.0          77.0   0.001944\n",
       "1  2    27               11              74                  84.9                 126.0        67.0          79.0   0.002222\n",
       "2  3    33               13              587                 52.2                 122.0        78.0         NaN     0.003056\n",
       "3  4    33               13              440                 58.7                 113.0        70.0          87.0   0.004167\n",
       "4  5    26               11              773                 28.6                 130.0        80.0         NaN     0.004167"
      ]
     },
     "execution_count": 179,
     "metadata": {},
     "output_type": "execute_result"
    }
   ],
   "source": [
    "test_data.head()"
   ]
  },
  {
   "cell_type": "code",
   "execution_count": 180,
   "metadata": {},
   "outputs": [],
   "source": [
    "final_df = test_data['ID1']"
   ]
  },
  {
   "cell_type": "code",
   "execution_count": 185,
   "metadata": {},
   "outputs": [],
   "source": [
    "test_data = test_data.drop(columns=['ID1'])"
   ]
  },
  {
   "cell_type": "code",
   "execution_count": 186,
   "metadata": {},
   "outputs": [],
   "source": [
    "from sklearn.impute import SimpleImputer\n",
    "imputer = SimpleImputer(missing_values=np.nan, strategy='mean')\n",
    "\n",
    "# Train the imputor on the df dataset\n",
    "imputer = imputer.fit(test_data)\n",
    "\n",
    "# Apply the imputer to the df dataset\n",
    "imputed_df = imputer.transform(test_data.values)\n",
    "\n",
    "new_df = pd.DataFrame(imputed_df)"
   ]
  },
  {
   "cell_type": "code",
   "execution_count": 187,
   "metadata": {},
   "outputs": [
    {
     "data": {
      "text/html": [
       "<div>\n",
       "<style scoped>\n",
       "    .dataframe tbody tr th:only-of-type {\n",
       "        vertical-align: middle;\n",
       "    }\n",
       "\n",
       "    .dataframe tbody tr th {\n",
       "        vertical-align: top;\n",
       "    }\n",
       "\n",
       "    .dataframe thead th {\n",
       "        text-align: right;\n",
       "    }\n",
       "</style>\n",
       "<table border=\"1\" class=\"dataframe\">\n",
       "  <thead>\n",
       "    <tr style=\"text-align: right;\">\n",
       "      <th></th>\n",
       "      <th>0</th>\n",
       "      <th>1</th>\n",
       "      <th>2</th>\n",
       "      <th>3</th>\n",
       "      <th>4</th>\n",
       "      <th>5</th>\n",
       "      <th>6</th>\n",
       "      <th>7</th>\n",
       "    </tr>\n",
       "  </thead>\n",
       "  <tbody>\n",
       "    <tr>\n",
       "      <td>0</td>\n",
       "      <td>33.0</td>\n",
       "      <td>13.0</td>\n",
       "      <td>857.0</td>\n",
       "      <td>59.7</td>\n",
       "      <td>140.0</td>\n",
       "      <td>82.0</td>\n",
       "      <td>77.000000</td>\n",
       "      <td>0.001944</td>\n",
       "    </tr>\n",
       "    <tr>\n",
       "      <td>1</td>\n",
       "      <td>27.0</td>\n",
       "      <td>11.0</td>\n",
       "      <td>74.0</td>\n",
       "      <td>84.9</td>\n",
       "      <td>126.0</td>\n",
       "      <td>67.0</td>\n",
       "      <td>79.000000</td>\n",
       "      <td>0.002222</td>\n",
       "    </tr>\n",
       "    <tr>\n",
       "      <td>2</td>\n",
       "      <td>33.0</td>\n",
       "      <td>13.0</td>\n",
       "      <td>587.0</td>\n",
       "      <td>52.2</td>\n",
       "      <td>122.0</td>\n",
       "      <td>78.0</td>\n",
       "      <td>78.468439</td>\n",
       "      <td>0.003056</td>\n",
       "    </tr>\n",
       "    <tr>\n",
       "      <td>3</td>\n",
       "      <td>33.0</td>\n",
       "      <td>13.0</td>\n",
       "      <td>440.0</td>\n",
       "      <td>58.7</td>\n",
       "      <td>113.0</td>\n",
       "      <td>70.0</td>\n",
       "      <td>87.000000</td>\n",
       "      <td>0.004167</td>\n",
       "    </tr>\n",
       "    <tr>\n",
       "      <td>4</td>\n",
       "      <td>26.0</td>\n",
       "      <td>11.0</td>\n",
       "      <td>773.0</td>\n",
       "      <td>28.6</td>\n",
       "      <td>130.0</td>\n",
       "      <td>80.0</td>\n",
       "      <td>78.468439</td>\n",
       "      <td>0.004167</td>\n",
       "    </tr>\n",
       "  </tbody>\n",
       "</table>\n",
       "</div>"
      ],
      "text/plain": [
       "      0     1      2     3      4     5          6         7\n",
       "0  33.0  13.0  857.0  59.7  140.0  82.0  77.000000  0.001944\n",
       "1  27.0  11.0  74.0   84.9  126.0  67.0  79.000000  0.002222\n",
       "2  33.0  13.0  587.0  52.2  122.0  78.0  78.468439  0.003056\n",
       "3  33.0  13.0  440.0  58.7  113.0  70.0  87.000000  0.004167\n",
       "4  26.0  11.0  773.0  28.6  130.0  80.0  78.468439  0.004167"
      ]
     },
     "execution_count": 187,
     "metadata": {},
     "output_type": "execute_result"
    }
   ],
   "source": [
    "new_df.head()"
   ]
  },
  {
   "cell_type": "code",
   "execution_count": 188,
   "metadata": {},
   "outputs": [],
   "source": [
    "dtest = xgb.DMatrix(data = new_df)"
   ]
  },
  {
   "cell_type": "code",
   "execution_count": 204,
   "metadata": {},
   "outputs": [],
   "source": [
    "new_df['LOS_PROB'] = bst.predict(dtest)"
   ]
  },
  {
   "cell_type": "code",
   "execution_count": 206,
   "metadata": {},
   "outputs": [],
   "source": [
    "final_df = pd.concat([final_df, new_df['LOS_PROB']], axis=1)"
   ]
  },
  {
   "cell_type": "code",
   "execution_count": 207,
   "metadata": {},
   "outputs": [
    {
     "data": {
      "text/html": [
       "<div>\n",
       "<style scoped>\n",
       "    .dataframe tbody tr th:only-of-type {\n",
       "        vertical-align: middle;\n",
       "    }\n",
       "\n",
       "    .dataframe tbody tr th {\n",
       "        vertical-align: top;\n",
       "    }\n",
       "\n",
       "    .dataframe thead th {\n",
       "        text-align: right;\n",
       "    }\n",
       "</style>\n",
       "<table border=\"1\" class=\"dataframe\">\n",
       "  <thead>\n",
       "    <tr style=\"text-align: right;\">\n",
       "      <th></th>\n",
       "      <th>ID1</th>\n",
       "      <th>LOS_PROB</th>\n",
       "    </tr>\n",
       "  </thead>\n",
       "  <tbody>\n",
       "    <tr>\n",
       "      <td>0</td>\n",
       "      <td>1</td>\n",
       "      <td>0.687565</td>\n",
       "    </tr>\n",
       "    <tr>\n",
       "      <td>1</td>\n",
       "      <td>2</td>\n",
       "      <td>0.703966</td>\n",
       "    </tr>\n",
       "    <tr>\n",
       "      <td>2</td>\n",
       "      <td>3</td>\n",
       "      <td>0.713735</td>\n",
       "    </tr>\n",
       "    <tr>\n",
       "      <td>3</td>\n",
       "      <td>4</td>\n",
       "      <td>0.892921</td>\n",
       "    </tr>\n",
       "    <tr>\n",
       "      <td>4</td>\n",
       "      <td>5</td>\n",
       "      <td>0.355952</td>\n",
       "    </tr>\n",
       "    <tr>\n",
       "      <td>...</td>\n",
       "      <td>...</td>\n",
       "      <td>...</td>\n",
       "    </tr>\n",
       "    <tr>\n",
       "      <td>11197</td>\n",
       "      <td>11198</td>\n",
       "      <td>0.516077</td>\n",
       "    </tr>\n",
       "    <tr>\n",
       "      <td>11198</td>\n",
       "      <td>11199</td>\n",
       "      <td>0.547322</td>\n",
       "    </tr>\n",
       "    <tr>\n",
       "      <td>11199</td>\n",
       "      <td>11200</td>\n",
       "      <td>0.596934</td>\n",
       "    </tr>\n",
       "    <tr>\n",
       "      <td>11200</td>\n",
       "      <td>11201</td>\n",
       "      <td>0.801949</td>\n",
       "    </tr>\n",
       "    <tr>\n",
       "      <td>11201</td>\n",
       "      <td>11202</td>\n",
       "      <td>0.430932</td>\n",
       "    </tr>\n",
       "  </tbody>\n",
       "</table>\n",
       "<p>11202 rows × 2 columns</p>\n",
       "</div>"
      ],
      "text/plain": [
       "         ID1  LOS_PROB\n",
       "0      1      0.687565\n",
       "1      2      0.703966\n",
       "2      3      0.713735\n",
       "3      4      0.892921\n",
       "4      5      0.355952\n",
       "...   ..           ...\n",
       "11197  11198  0.516077\n",
       "11198  11199  0.547322\n",
       "11199  11200  0.596934\n",
       "11200  11201  0.801949\n",
       "11201  11202  0.430932\n",
       "\n",
       "[11202 rows x 2 columns]"
      ]
     },
     "execution_count": 207,
     "metadata": {},
     "output_type": "execute_result"
    }
   ],
   "source": [
    "final_df"
   ]
  },
  {
   "cell_type": "code",
   "execution_count": 208,
   "metadata": {},
   "outputs": [],
   "source": [
    "final_df.to_csv('final_output.csv', sep='\\t')"
   ]
  },
  {
   "cell_type": "code",
   "execution_count": null,
   "metadata": {},
   "outputs": [],
   "source": []
  }
 ],
 "metadata": {
  "kernelspec": {
   "display_name": "Python 3",
   "language": "python",
   "name": "python3"
  },
  "language_info": {
   "codemirror_mode": {
    "name": "ipython",
    "version": 3
   },
   "file_extension": ".py",
   "mimetype": "text/x-python",
   "name": "python",
   "nbconvert_exporter": "python",
   "pygments_lexer": "ipython3",
   "version": "3.7.4"
  }
 },
 "nbformat": 4,
 "nbformat_minor": 2
}
